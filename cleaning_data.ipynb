{
 "cells": [
  {
   "cell_type": "code",
   "execution_count": 1,
   "metadata": {},
   "outputs": [
    {
     "name": "stdout",
     "output_type": "stream",
     "text": [
      "CPU times: total: 1min 3s\n",
      "Wall time: 41.6 s\n"
     ]
    },
    {
     "data": {
      "text/html": [
       "<div><style>\n",
       ".dataframe > thead > tr > th,\n",
       ".dataframe > tbody > tr > td {\n",
       "  text-align: right;\n",
       "  white-space: pre-wrap;\n",
       "}\n",
       "</style>\n",
       "<small>shape: (5, 19)</small><table border=\"1\" class=\"dataframe\"><thead><tr><th>category</th><th>tech1</th><th>fit</th><th>title</th><th>tech2</th><th>brand</th><th>rank</th><th>details</th><th>main_cat</th><th>similar_item</th><th>date</th><th>price</th><th>asin</th><th>description</th><th>feature</th><th>imageURL</th><th>imageURLHighRes</th><th>also_view</th><th>also_buy</th></tr><tr><td>list[str]</td><td>str</td><td>str</td><td>str</td><td>str</td><td>str</td><td>str</td><td>struct[9]</td><td>str</td><td>str</td><td>str</td><td>str</td><td>str</td><td>list[str]</td><td>list[str]</td><td>list[str]</td><td>list[str]</td><td>list[str]</td><td>list[str]</td></tr></thead><tbody><tr><td>[&quot;Cell Phones &amp; Accessories&quot;, &quot;Accessories&quot;, &quot;Screen Protectors&quot;]</td><td>&quot;&quot;</td><td>&quot;&quot;</td><td>&quot;Trollies Sing …</td><td>&quot;&quot;</td><td>&quot;&quot;</td><td>&quot;557,379 in Mov…</td><td>{null,null,null,null,null,null,null,&quot;6303195164&quot;,null}</td><td>&quot;Movies &amp; TV&quot;</td><td>&quot;&quot;</td><td>&quot;&quot;</td><td>&quot;&quot;</td><td>&quot;6303195164&quot;</td><td>[]</td><td>[]</td><td>[]</td><td>[]</td><td>[]</td><td>[]</td></tr><tr><td>[&quot;Cell Phones &amp; Accessories&quot;, &quot;Accessories&quot;, … &quot;Car Cradles &amp; Mounts&quot;]</td><td>&quot;&quot;</td><td>&quot;&quot;</td><td>&quot;La Pura VHS&quot;</td><td>&quot;&quot;</td><td>&quot;Maribel Guardi…</td><td>&quot;1,024,449 in M…</td><td>{null,null,null,null,null,null,null,&quot;630524412X&quot;,null}</td><td>&quot;Movies &amp; TV&quot;</td><td>&quot;&quot;</td><td>&quot;&quot;</td><td>&quot;&quot;</td><td>&quot;630524412X&quot;</td><td>[]</td><td>[]</td><td>[]</td><td>[]</td><td>[]</td><td>[]</td></tr><tr><td>[&quot;Cell Phones &amp; Accessories&quot;, &quot;Cases, Holsters &amp; Sleeves&quot;]</td><td>&quot;&quot;</td><td>&quot;&quot;</td><td>&quot;Leopard Thanks…</td><td>&quot;&quot;</td><td>&quot;&quot;</td><td>&quot;5,315,017 in B…</td><td>{null,&quot;juduiou&quot;,null,null,null,&quot;11.5 x 1.1 x 5.8 inches&quot;,&quot;1 ounces&quot;,null,&quot;6310200240&quot;}</td><td>&quot;Books&quot;</td><td>&quot;&quot;</td><td>&quot;&quot;</td><td>&quot;&quot;</td><td>&quot;6310200240&quot;</td><td>[&quot;New items to give you a new good mood, welcome to you have a happy shopping trip.&quot;]</td><td>[]</td><td>[]</td><td>[]</td><td>[]</td><td>[]</td></tr><tr><td>[&quot;Cell Phones &amp; Accessories&quot;, &quot;Cases, Holsters &amp; Sleeves&quot;, &quot;Basic Cases&quot;]</td><td>&quot;&quot;</td><td>&quot;&quot;</td><td>&quot;Puppies Facepl…</td><td>&quot;&quot;</td><td>&quot;Live2Pedal&quot;</td><td>null</td><td>{null,null,null,null,null,null,null,null,null}</td><td>&quot;Cell Phones &amp; …</td><td>&quot;&quot;</td><td>&quot;&quot;</td><td>&quot;&quot;</td><td>&quot;6786501710&quot;</td><td>[&quot;A brand-new, unused, unopened, undamaged item in its original packaging (where packaging is applicable).&quot;]</td><td>[&quot;Protect your phone with style through this Attractive Protector Case and make it tamper resistance&quot;, &quot;Delivers ultimate protection from scratches and molds perfectly to device&#x27;s shape to highlight its beauty&quot;, … &quot;No tools required - Just Snap-On for a New Look in seconds&quot;]</td><td>[]</td><td>[]</td><td>[]</td><td>[]</td></tr><tr><td>[&quot;Cell Phones &amp; Accessories&quot;, &quot;Cases, Holsters &amp; Sleeves&quot;]</td><td>&quot;&quot;</td><td>&quot;&quot;</td><td>&quot;White Wolf Fac…</td><td>&quot;&quot;</td><td>&quot;wirelessoutlet…</td><td>null</td><td>{null,null,null,null,null,null,null,null,null}</td><td>&quot;Cell Phones &amp; …</td><td>&quot;&quot;</td><td>&quot;&quot;</td><td>&quot;&quot;</td><td>&quot;6786501273&quot;</td><td>[&quot;A brand-new, unused, unopened, undamaged item in its original packaging (where packaging is applicable).&quot;]</td><td>[&quot;Protect your phone with style through this Attractive Protector Case and make it tamper resistance&quot;, &quot;Delivers ultimate protection from scratches and molds perfectly to device&#x27;s shape to highlight its beauty&quot;, … &quot;No tools required - Just Snap-On for a New Look in seconds&quot;]</td><td>[]</td><td>[]</td><td>[]</td><td>[]</td></tr></tbody></table></div>"
      ],
      "text/plain": [
       "shape: (5, 19)\n",
       "┌──────────────┬───────┬─────┬──────────────┬───┬───────────┬──────────────┬───────────┬───────────┐\n",
       "│ category     ┆ tech1 ┆ fit ┆ title        ┆ … ┆ imageURL  ┆ imageURLHigh ┆ also_view ┆ also_buy  │\n",
       "│ ---          ┆ ---   ┆ --- ┆ ---          ┆   ┆ ---       ┆ Res          ┆ ---       ┆ ---       │\n",
       "│ list[str]    ┆ str   ┆ str ┆ str          ┆   ┆ list[str] ┆ ---          ┆ list[str] ┆ list[str] │\n",
       "│              ┆       ┆     ┆              ┆   ┆           ┆ list[str]    ┆           ┆           │\n",
       "╞══════════════╪═══════╪═════╪══════════════╪═══╪═══════════╪══════════════╪═══════════╪═══════════╡\n",
       "│ [\"Cell       ┆       ┆     ┆ Trollies     ┆ … ┆ []        ┆ []           ┆ []        ┆ []        │\n",
       "│ Phones & Acc ┆       ┆     ┆ Sing a Long  ┆   ┆           ┆              ┆           ┆           │\n",
       "│ essories\",   ┆       ┆     ┆ Party VHS    ┆   ┆           ┆              ┆           ┆           │\n",
       "│ \"A…          ┆       ┆     ┆              ┆   ┆           ┆              ┆           ┆           │\n",
       "│ [\"Cell       ┆       ┆     ┆ La Pura VHS  ┆ … ┆ []        ┆ []           ┆ []        ┆ []        │\n",
       "│ Phones & Acc ┆       ┆     ┆              ┆   ┆           ┆              ┆           ┆           │\n",
       "│ essories\",   ┆       ┆     ┆              ┆   ┆           ┆              ┆           ┆           │\n",
       "│ \"A…          ┆       ┆     ┆              ┆   ┆           ┆              ┆           ┆           │\n",
       "│ [\"Cell       ┆       ┆     ┆ Leopard      ┆ … ┆ []        ┆ []           ┆ []        ┆ []        │\n",
       "│ Phones & Acc ┆       ┆     ┆ Thanksgiving ┆   ┆           ┆              ┆           ┆           │\n",
       "│ essories\",   ┆       ┆     ┆ Easter PC B… ┆   ┆           ┆              ┆           ┆           │\n",
       "│ \"C…          ┆       ┆     ┆              ┆   ┆           ┆              ┆           ┆           │\n",
       "│ [\"Cell       ┆       ┆     ┆ Puppies      ┆ … ┆ []        ┆ []           ┆ []        ┆ []        │\n",
       "│ Phones & Acc ┆       ┆     ┆ Faceplate    ┆   ┆           ┆              ┆           ┆           │\n",
       "│ essories\",   ┆       ┆     ┆ Hard Case    ┆   ┆           ┆              ┆           ┆           │\n",
       "│ \"C…          ┆       ┆     ┆ Prot…        ┆   ┆           ┆              ┆           ┆           │\n",
       "│ [\"Cell       ┆       ┆     ┆ White Wolf   ┆ … ┆ []        ┆ []           ┆ []        ┆ []        │\n",
       "│ Phones & Acc ┆       ┆     ┆ Faceplate    ┆   ┆           ┆              ┆           ┆           │\n",
       "│ essories\",   ┆       ┆     ┆ Protector H… ┆   ┆           ┆              ┆           ┆           │\n",
       "│ \"C…          ┆       ┆     ┆              ┆   ┆           ┆              ┆           ┆           │\n",
       "└──────────────┴───────┴─────┴──────────────┴───┴───────────┴──────────────┴───────────┴───────────┘"
      ]
     },
     "execution_count": 1,
     "metadata": {},
     "output_type": "execute_result"
    }
   ],
   "source": [
    "%%time\n",
    "# Read the metadata file\n",
    "import polars as pl\n",
    "import pandas as pd\n",
    "\n",
    "meta_df = pl.read_ndjson('meta_Cell_Phones_and_Accessories.json')\n",
    "\n",
    "meta_df.head(5)"
   ]
  },
  {
   "cell_type": "code",
   "execution_count": 10,
   "metadata": {},
   "outputs": [
    {
     "name": "stdout",
     "output_type": "stream",
     "text": [
      "CPU times: total: 18.2 s\n",
      "Wall time: 18.1 s\n"
     ]
    }
   ],
   "source": [
    "%%time\n",
    "# Read the review dataset\n",
    "df = pl.read_ndjson('Cell_Phones_and_Accessories.json')"
   ]
  },
  {
   "cell_type": "code",
   "execution_count": 11,
   "metadata": {},
   "outputs": [
    {
     "name": "stdout",
     "output_type": "stream",
     "text": [
      "(10063255, 9)\n",
      "CPU times: total: 0 ns\n",
      "Wall time: 2.15 ms\n"
     ]
    },
    {
     "data": {
      "text/html": [
       "<div><style>\n",
       ".dataframe > thead > tr > th,\n",
       ".dataframe > tbody > tr > td {\n",
       "  text-align: right;\n",
       "  white-space: pre-wrap;\n",
       "}\n",
       "</style>\n",
       "<small>shape: (10, 9)</small><table border=\"1\" class=\"dataframe\"><thead><tr><th>overall</th><th>verified</th><th>reviewTime</th><th>reviewerID</th><th>asin</th><th>reviewerName</th><th>reviewText</th><th>summary</th><th>unixReviewTime</th></tr><tr><td>f64</td><td>bool</td><td>str</td><td>str</td><td>str</td><td>str</td><td>str</td><td>str</td><td>i64</td></tr></thead><tbody><tr><td>5.0</td><td>false</td><td>&quot;11 19, 2014&quot;</td><td>&quot;A1GG51FWU0XQYH…</td><td>&quot;098949232X&quot;</td><td>&quot;Paul Williams&quot;</td><td>&quot;If your into s…</td><td>&quot;Five Stars&quot;</td><td>1416355200</td></tr><tr><td>5.0</td><td>false</td><td>&quot;11 19, 2014&quot;</td><td>&quot;AVFIDS9RK38E0&quot;</td><td>&quot;098949232X&quot;</td><td>&quot;Sean Powell&quot;</td><td>&quot;Awesome pictur…</td><td>&quot;Five Stars&quot;</td><td>1416355200</td></tr><tr><td>5.0</td><td>false</td><td>&quot;11 19, 2014&quot;</td><td>&quot;A2S4AVR5SJ7KMI…</td><td>&quot;098949232X&quot;</td><td>&quot;Tom Davis&quot;</td><td>&quot;Great wall art…</td><td>&quot;Five Stars&quot;</td><td>1416355200</td></tr><tr><td>5.0</td><td>false</td><td>&quot;11 19, 2014&quot;</td><td>&quot;AEMMMVOR9BFLI&quot;</td><td>&quot;098949232X&quot;</td><td>&quot;Kwajmeck&quot;</td><td>&quot;As always, it …</td><td>&quot;I love it. I b…</td><td>1416355200</td></tr><tr><td>5.0</td><td>false</td><td>&quot;11 19, 2014&quot;</td><td>&quot;A2DZXMBTY7KLYP…</td><td>&quot;098949232X&quot;</td><td>&quot;ScottG43&quot;</td><td>&quot;This is a fant…</td><td>&quot;Great Calendar…</td><td>1416355200</td></tr><tr><td>5.0</td><td>false</td><td>&quot;11 19, 2014&quot;</td><td>&quot;AUD367H6I25FX&quot;</td><td>&quot;098949232X&quot;</td><td>&quot;Michael Lee Wa…</td><td>&quot;It&#x27;s great, I …</td><td>&quot;Awesome Calend…</td><td>1416355200</td></tr><tr><td>5.0</td><td>false</td><td>&quot;11 19, 2014&quot;</td><td>&quot;A3K6KUWAZ6SWHE…</td><td>&quot;098949232X&quot;</td><td>&quot;Daniel Alexand…</td><td>&quot;2015 will be m…</td><td>&quot;Great calendar…</td><td>1416355200</td></tr><tr><td>5.0</td><td>false</td><td>&quot;11 19, 2014&quot;</td><td>&quot;A1FPEO0ME9G4VY…</td><td>&quot;098949232X&quot;</td><td>&quot;B. Willey&quot;</td><td>&quot;My son loves t…</td><td>&quot;Five Stars&quot;</td><td>1416355200</td></tr><tr><td>5.0</td><td>true</td><td>&quot;02 20, 2015&quot;</td><td>&quot;A20AOY7UXJA710…</td><td>&quot;098949232X&quot;</td><td>&quot;Michael D&quot;</td><td>&quot;A great calend…</td><td>&quot;Great Calendar…</td><td>1424390400</td></tr><tr><td>5.0</td><td>true</td><td>&quot;02 13, 2015&quot;</td><td>&quot;A222LHL23AH0GK…</td><td>&quot;098949232X&quot;</td><td>&quot;Nancy&quot;</td><td>&quot;Lots and lots …</td><td>&quot;Five Stars&quot;</td><td>1423785600</td></tr></tbody></table></div>"
      ],
      "text/plain": [
       "shape: (10, 9)\n",
       "┌─────────┬──────────┬────────────┬────────────┬───┬───────────┬───────────┬───────────┬───────────┐\n",
       "│ overall ┆ verified ┆ reviewTime ┆ reviewerID ┆ … ┆ reviewerN ┆ reviewTex ┆ summary   ┆ unixRevie │\n",
       "│ ---     ┆ ---      ┆ ---        ┆ ---        ┆   ┆ ame       ┆ t         ┆ ---       ┆ wTime     │\n",
       "│ f64     ┆ bool     ┆ str        ┆ str        ┆   ┆ ---       ┆ ---       ┆ str       ┆ ---       │\n",
       "│         ┆          ┆            ┆            ┆   ┆ str       ┆ str       ┆           ┆ i64       │\n",
       "╞═════════╪══════════╪════════════╪════════════╪═══╪═══════════╪═══════════╪═══════════╪═══════════╡\n",
       "│ 5.0     ┆ false    ┆ 11 19,     ┆ A1GG51FWU0 ┆ … ┆ Paul      ┆ If your   ┆ Five      ┆ 141635520 │\n",
       "│         ┆          ┆ 2014       ┆ XQYH       ┆   ┆ Williams  ┆ into      ┆ Stars     ┆ 0         │\n",
       "│         ┆          ┆            ┆            ┆   ┆           ┆ space     ┆           ┆           │\n",
       "│         ┆          ┆            ┆            ┆   ┆           ┆ this is   ┆           ┆           │\n",
       "│         ┆          ┆            ┆            ┆   ┆           ┆ the C…    ┆           ┆           │\n",
       "│ 5.0     ┆ false    ┆ 11 19,     ┆ AVFIDS9RK3 ┆ … ┆ Sean      ┆ Awesome   ┆ Five      ┆ 141635520 │\n",
       "│         ┆          ┆ 2014       ┆ 8E0        ┆   ┆ Powell    ┆ pictures! ┆ Stars     ┆ 0         │\n",
       "│ 5.0     ┆ false    ┆ 11 19,     ┆ A2S4AVR5SJ ┆ … ┆ Tom Davis ┆ Great     ┆ Five      ┆ 141635520 │\n",
       "│         ┆          ┆ 2014       ┆ 7KMI       ┆   ┆           ┆ wall art  ┆ Stars     ┆ 0         │\n",
       "│         ┆          ┆            ┆            ┆   ┆           ┆ and infor ┆           ┆           │\n",
       "│         ┆          ┆            ┆            ┆   ┆           ┆ mation f… ┆           ┆           │\n",
       "│ 5.0     ┆ false    ┆ 11 19,     ┆ AEMMMVOR9B ┆ … ┆ Kwajmeck  ┆ As        ┆ I love    ┆ 141635520 │\n",
       "│         ┆          ┆ 2014       ┆ FLI        ┆   ┆           ┆ always,   ┆ it. I buy ┆ 0         │\n",
       "│         ┆          ┆            ┆            ┆   ┆           ┆ it is a   ┆ a new one ┆           │\n",
       "│         ┆          ┆            ┆            ┆   ┆           ┆ quality   ┆ every…    ┆           │\n",
       "│         ┆          ┆            ┆            ┆   ┆           ┆ calen…    ┆           ┆           │\n",
       "│ …       ┆ …        ┆ …          ┆ …          ┆ … ┆ …         ┆ …         ┆ …         ┆ …         │\n",
       "│ 5.0     ┆ false    ┆ 11 19,     ┆ A3K6KUWAZ6 ┆ … ┆ Daniel    ┆ 2015 will ┆ Great     ┆ 141635520 │\n",
       "│         ┆          ┆ 2014       ┆ SWHE       ┆   ┆ Alexander ┆ be my 3rd ┆ calendar! ┆ 0         │\n",
       "│         ┆          ┆            ┆            ┆   ┆ Poole     ┆ year,     ┆           ┆           │\n",
       "│         ┆          ┆            ┆            ┆   ┆           ┆ lookin…   ┆           ┆           │\n",
       "│ 5.0     ┆ false    ┆ 11 19,     ┆ A1FPEO0ME9 ┆ … ┆ B. Willey ┆ My son    ┆ Five      ┆ 141635520 │\n",
       "│         ┆          ┆ 2014       ┆ G4VY       ┆   ┆           ┆ loves     ┆ Stars     ┆ 0         │\n",
       "│         ┆          ┆            ┆            ┆   ┆           ┆ this      ┆           ┆           │\n",
       "│         ┆          ┆            ┆            ┆   ┆           ┆ every     ┆           ┆           │\n",
       "│         ┆          ┆            ┆            ┆   ┆           ┆ year!     ┆           ┆           │\n",
       "│ 5.0     ┆ true     ┆ 02 20,     ┆ A20AOY7UXJ ┆ … ┆ Michael D ┆ A great   ┆ Great     ┆ 142439040 │\n",
       "│         ┆          ┆ 2015       ┆ A710       ┆   ┆           ┆ calendar  ┆ Calendar  ┆ 0         │\n",
       "│         ┆          ┆            ┆            ┆   ┆           ┆ for the   ┆ for Space ┆           │\n",
       "│         ┆          ┆            ┆            ┆   ┆           ┆ space o…  ┆ Fans      ┆           │\n",
       "│ 5.0     ┆ true     ┆ 02 13,     ┆ A222LHL23A ┆ … ┆ Nancy     ┆ Lots and  ┆ Five      ┆ 142378560 │\n",
       "│         ┆          ┆ 2015       ┆ H0GK       ┆   ┆           ┆ lots of   ┆ Stars     ┆ 0         │\n",
       "│         ┆          ┆            ┆            ┆   ┆           ┆ info      ┆           ┆           │\n",
       "└─────────┴──────────┴────────────┴────────────┴───┴───────────┴───────────┴───────────┴───────────┘"
      ]
     },
     "execution_count": 11,
     "metadata": {},
     "output_type": "execute_result"
    }
   ],
   "source": [
    "%%time\n",
    "# Check the shape of the dataset and the first 10 rows of our dataset\n",
    "print(df.shape)\n",
    "df.head(10)"
   ]
  },
  {
   "cell_type": "code",
   "execution_count": 12,
   "metadata": {},
   "outputs": [
    {
     "name": "stdout",
     "output_type": "stream",
     "text": [
      "CPU times: total: 0 ns\n",
      "Wall time: 19.9 ms\n"
     ]
    },
    {
     "data": {
      "text/html": [
       "<div><style>\n",
       ".dataframe > thead > tr > th,\n",
       ".dataframe > tbody > tr > td {\n",
       "  text-align: right;\n",
       "  white-space: pre-wrap;\n",
       "}\n",
       "</style>\n",
       "<small>shape: (1, 9)</small><table border=\"1\" class=\"dataframe\"><thead><tr><th>overall</th><th>verified</th><th>reviewTime</th><th>reviewerID</th><th>asin</th><th>reviewerName</th><th>reviewText</th><th>summary</th><th>unixReviewTime</th></tr><tr><td>u32</td><td>u32</td><td>u32</td><td>u32</td><td>u32</td><td>u32</td><td>u32</td><td>u32</td><td>u32</td></tr></thead><tbody><tr><td>0</td><td>0</td><td>0</td><td>0</td><td>0</td><td>727</td><td>9373</td><td>5519</td><td>0</td></tr></tbody></table></div>"
      ],
      "text/plain": [
       "shape: (1, 9)\n",
       "┌─────────┬──────────┬────────────┬────────────┬───┬────────────┬────────────┬─────────┬───────────┐\n",
       "│ overall ┆ verified ┆ reviewTime ┆ reviewerID ┆ … ┆ reviewerNa ┆ reviewText ┆ summary ┆ unixRevie │\n",
       "│ ---     ┆ ---      ┆ ---        ┆ ---        ┆   ┆ me         ┆ ---        ┆ ---     ┆ wTime     │\n",
       "│ u32     ┆ u32      ┆ u32        ┆ u32        ┆   ┆ ---        ┆ u32        ┆ u32     ┆ ---       │\n",
       "│         ┆          ┆            ┆            ┆   ┆ u32        ┆            ┆         ┆ u32       │\n",
       "╞═════════╪══════════╪════════════╪════════════╪═══╪════════════╪════════════╪═════════╪═══════════╡\n",
       "│ 0       ┆ 0        ┆ 0          ┆ 0          ┆ … ┆ 727        ┆ 9373       ┆ 5519    ┆ 0         │\n",
       "└─────────┴──────────┴────────────┴────────────┴───┴────────────┴────────────┴─────────┴───────────┘"
      ]
     },
     "execution_count": 12,
     "metadata": {},
     "output_type": "execute_result"
    }
   ],
   "source": [
    "%%time\n",
    "# Check null values in each column of the dataset\n",
    "df.select(pl.all().null_count())"
   ]
  },
  {
   "cell_type": "code",
   "execution_count": 13,
   "metadata": {},
   "outputs": [
    {
     "name": "stdout",
     "output_type": "stream",
     "text": [
      "CPU times: total: 0 ns\n",
      "Wall time: 2 ms\n"
     ]
    },
    {
     "data": {
      "text/html": [
       "<div><style>\n",
       ".dataframe > thead > tr > th,\n",
       ".dataframe > tbody > tr > td {\n",
       "  text-align: right;\n",
       "  white-space: pre-wrap;\n",
       "}\n",
       "</style>\n",
       "<small>shape: (10, 2)</small><table border=\"1\" class=\"dataframe\"><thead><tr><th>overall</th><th>reviewText</th></tr><tr><td>f64</td><td>str</td></tr></thead><tbody><tr><td>5.0</td><td>&quot;If your into s…</td></tr><tr><td>5.0</td><td>&quot;Awesome pictur…</td></tr><tr><td>5.0</td><td>&quot;Great wall art…</td></tr><tr><td>5.0</td><td>&quot;As always, it …</td></tr><tr><td>5.0</td><td>&quot;This is a fant…</td></tr><tr><td>5.0</td><td>&quot;It&#x27;s great, I …</td></tr><tr><td>5.0</td><td>&quot;2015 will be m…</td></tr><tr><td>5.0</td><td>&quot;My son loves t…</td></tr><tr><td>5.0</td><td>&quot;A great calend…</td></tr><tr><td>5.0</td><td>&quot;Lots and lots …</td></tr></tbody></table></div>"
      ],
      "text/plain": [
       "shape: (10, 2)\n",
       "┌─────────┬───────────────────────────────────┐\n",
       "│ overall ┆ reviewText                        │\n",
       "│ ---     ┆ ---                               │\n",
       "│ f64     ┆ str                               │\n",
       "╞═════════╪═══════════════════════════════════╡\n",
       "│ 5.0     ┆ If your into space this is the C… │\n",
       "│ 5.0     ┆ Awesome pictures!                 │\n",
       "│ 5.0     ┆ Great wall art and information f… │\n",
       "│ 5.0     ┆ As always, it is a quality calen… │\n",
       "│ …       ┆ …                                 │\n",
       "│ 5.0     ┆ 2015 will be my 3rd year, lookin… │\n",
       "│ 5.0     ┆ My son loves this every year!     │\n",
       "│ 5.0     ┆ A great calendar for the space o… │\n",
       "│ 5.0     ┆ Lots and lots of info             │\n",
       "└─────────┴───────────────────────────────────┘"
      ]
     },
     "execution_count": 13,
     "metadata": {},
     "output_type": "execute_result"
    }
   ],
   "source": [
    "%%time \n",
    "# Keep only the columns we need for the sentiment analysis, which are overall and reviewText\n",
    "df = df.select(pl.col(\"overall\", \"reviewText\"))\n",
    "df.head(10)"
   ]
  },
  {
   "cell_type": "code",
   "execution_count": 8,
   "metadata": {},
   "outputs": [
    {
     "name": "stdout",
     "output_type": "stream",
     "text": [
      "(10053882, 2)\n",
      "CPU times: total: 10.5 s\n",
      "Wall time: 6.87 s\n"
     ]
    }
   ],
   "source": [
    "%%time\n",
    "# Drop the rows with null values in the reviewText column\n",
    "df = df.filter(~pl.col(\"reviewText\").is_null())\n",
    "print(df.shape)"
   ]
  },
  {
   "cell_type": "code",
   "execution_count": 4,
   "metadata": {},
   "outputs": [
    {
     "name": "stdout",
     "output_type": "stream",
     "text": [
      "CPU times: total: 1.16 s\n",
      "Wall time: 400 ms\n"
     ]
    },
    {
     "data": {
      "text/html": [
       "<div><style>\n",
       ".dataframe > thead > tr > th,\n",
       ".dataframe > tbody > tr > td {\n",
       "  text-align: right;\n",
       "  white-space: pre-wrap;\n",
       "}\n",
       "</style>\n",
       "<small>shape: (5, 2)</small><table border=\"1\" class=\"dataframe\"><thead><tr><th>overall</th><th>reviewText</th></tr><tr><td>f64</td><td>u32</td></tr></thead><tbody><tr><td>5.0</td><td>5641203</td></tr><tr><td>4.0</td><td>1516378</td></tr><tr><td>1.0</td><td>1381867</td></tr><tr><td>3.0</td><td>860278</td></tr><tr><td>2.0</td><td>654156</td></tr></tbody></table></div>"
      ],
      "text/plain": [
       "shape: (5, 2)\n",
       "┌─────────┬────────────┐\n",
       "│ overall ┆ reviewText │\n",
       "│ ---     ┆ ---        │\n",
       "│ f64     ┆ u32        │\n",
       "╞═════════╪════════════╡\n",
       "│ 5.0     ┆ 5641203    │\n",
       "│ 4.0     ┆ 1516378    │\n",
       "│ 1.0     ┆ 1381867    │\n",
       "│ 3.0     ┆ 860278     │\n",
       "│ 2.0     ┆ 654156     │\n",
       "└─────────┴────────────┘"
      ]
     },
     "execution_count": 4,
     "metadata": {},
     "output_type": "execute_result"
    }
   ],
   "source": [
    "%%time\n",
    "# Group by the overall column and count the number of rows for each rating\n",
    "df.group_by(\"overall\").agg(pl.count(\"reviewText\"))"
   ]
  },
  {
   "cell_type": "code",
   "execution_count": 5,
   "metadata": {},
   "outputs": [
    {
     "name": "stderr",
     "output_type": "stream",
     "text": [
      "[nltk_data] Downloading package stopwords to\n",
      "[nltk_data]     C:\\Users\\OWNER\\AppData\\Roaming\\nltk_data...\n",
      "[nltk_data]   Package stopwords is already up-to-date!\n",
      "[nltk_data] Downloading package wordnet to\n",
      "[nltk_data]     C:\\Users\\OWNER\\AppData\\Roaming\\nltk_data...\n",
      "[nltk_data]   Package wordnet is already up-to-date!\n"
     ]
    },
    {
     "data": {
      "text/plain": [
       "True"
      ]
     },
     "execution_count": 5,
     "metadata": {},
     "output_type": "execute_result"
    }
   ],
   "source": [
    "import re\n",
    "from nltk import download\n",
    "from pandarallel import pandarallel\n",
    "\n",
    "# Download NLTK stopwords\n",
    "download('stopwords')\n",
    "download('wordnet')"
   ]
  },
  {
   "cell_type": "code",
   "execution_count": 6,
   "metadata": {},
   "outputs": [
    {
     "name": "stdout",
     "output_type": "stream",
     "text": [
      "INFO: Pandarallel will run on 6 workers.\n",
      "INFO: Pandarallel will use standard multiprocessing data transfer (pipe) to transfer data between the main process and workers.\n",
      "\n",
      "WARNING: You are on Windows. If you detect any issue with pandarallel, be sure you checked out the Troubleshooting page:\n",
      "https://nalepae.github.io/pandarallel/troubleshooting/\n"
     ]
    },
    {
     "data": {
      "application/vnd.jupyter.widget-view+json": {
       "model_id": "c5774ff91c6a4046ae6975c31872155a",
       "version_major": 2,
       "version_minor": 0
      },
      "text/plain": [
       "VBox(children=(HBox(children=(IntProgress(value=0, description='0.00%', max=1675647), Label(value='0 / 1675647…"
      ]
     },
     "metadata": {},
     "output_type": "display_data"
    },
    {
     "name": "stdout",
     "output_type": "stream",
     "text": [
      "CPU times: total: 21.9 s\n",
      "Wall time: 18min 38s\n"
     ]
    }
   ],
   "source": [
    "%%time\n",
    "def cleanText(text):\n",
    "    import re\n",
    "    from nltk.corpus import stopwords\n",
    "    stop_words = set(stopwords.words('english'))\n",
    "    # Remove HTML tags\n",
    "    text = re.sub(\"<[^>]*>\", \"\", text)\n",
    "    # Remove URLs\n",
    "    text = re.sub(\"(https?:\\\\/\\\\/www\\\\.|https?:\\\\/\\\\/|www\\\\.)[\\\\w\\\\-]+([\\\\.\\\\w\\\\/\\\\-]*)*\\\\S+\", \"\", text)\n",
    "    # Remove usernames, hashtags, ampersands, and gmails\n",
    "    text = re.sub(\"\\S*(#|@|&)\\S*\", \"\", text)\n",
    "    # Remove numbers\n",
    "    text = re.sub(\"\\\\d+\", \"\", text)\n",
    "    # Remove special characters, punctuations\n",
    "    text = re.sub(\"[^a-zA-Z ]\", \"\", text)\n",
    "    # Convert to lowercase\n",
    "    text = text.lower()  \n",
    "    # Remove stopwords\n",
    "    text = ' '.join([word for word in text.split() if word not in stop_words])\n",
    "    # Remove additional white spaces\n",
    "    text = re.sub(\"\\\\s+\", \" \", text)\n",
    "    if text == \"\":\n",
    "        text = None\n",
    "    return text\n",
    "\n",
    "# Convert Polars DataFrame to Pandas DataFrame\n",
    "df_pd = df.to_pandas()\n",
    "# Initialize pandarallel\n",
    "pandarallel.initialize(progress_bar=True)\n",
    "# Apply cleanText to DataFrame column\n",
    "df_pd['cleaned_reviewText'] = df_pd['reviewText'].parallel_apply(cleanText)"
   ]
  },
  {
   "cell_type": "code",
   "execution_count": 7,
   "metadata": {},
   "outputs": [
    {
     "data": {
      "text/plain": [
       "0                                       space calendar\n",
       "1                                     awesome pictures\n",
       "2    great wall art information space exploration m...\n",
       "3    always quality calendar full interesting space...\n",
       "4    fantastic calendar third year purchasing sturd...\n",
       "5                                 great get every year\n",
       "6    rd year looking forward always enjoy flipping ...\n",
       "7                                 son loves every year\n",
       "8    great calendar space science enthusiast ever m...\n",
       "9                                       lots lots info\n",
       "Name: cleaned_reviewText, dtype: object"
      ]
     },
     "execution_count": 7,
     "metadata": {},
     "output_type": "execute_result"
    }
   ],
   "source": [
    "df_pd['cleaned_reviewText'].head(10)"
   ]
  },
  {
   "cell_type": "code",
   "execution_count": 12,
   "metadata": {},
   "outputs": [
    {
     "name": "stdout",
     "output_type": "stream",
     "text": [
      "INFO: Pandarallel will run on 6 workers.\n",
      "INFO: Pandarallel will use standard multiprocessing data transfer (pipe) to transfer data between the main process and workers.\n",
      "\n",
      "WARNING: You are on Windows. If you detect any issue with pandarallel, be sure you checked out the Troubleshooting page:\n",
      "https://nalepae.github.io/pandarallel/troubleshooting/\n"
     ]
    },
    {
     "data": {
      "application/vnd.jupyter.widget-view+json": {
       "model_id": "88379a043b0e4be1af3264ca9ab78c09",
       "version_major": 2,
       "version_minor": 0
      },
      "text/plain": [
       "VBox(children=(HBox(children=(IntProgress(value=0, description='0.00%', max=1675647), Label(value='0 / 1675647…"
      ]
     },
     "metadata": {},
     "output_type": "display_data"
    },
    {
     "name": "stdout",
     "output_type": "stream",
     "text": [
      "CPU times: total: 20 s\n",
      "Wall time: 36min 4s\n"
     ]
    }
   ],
   "source": [
    "%%time\n",
    "def cleanText_with_stem(text):\n",
    "    import re\n",
    "    from nltk.corpus import stopwords\n",
    "    from nltk.stem import PorterStemmer\n",
    "    stop_words = set(stopwords.words('english'))\n",
    "    stemmer = PorterStemmer()\n",
    "    # Remove HTML tags\n",
    "    text = re.sub(\"<[^>]*>\", \"\", text)\n",
    "    # Remove URLs\n",
    "    text = re.sub(\"(https?:\\\\/\\\\/www\\\\.|https?:\\\\/\\\\/|www\\\\.)[\\\\w\\\\-]+([\\\\.\\\\w\\\\/\\\\-]*)*\\\\S+\", \"\", text)\n",
    "    # Remove usernames, hashtags, ampersands, and gmails\n",
    "    text = re.sub(\"\\S*(#|@|&)\\S*\", \"\", text)\n",
    "    # Remove numbers\n",
    "    text = re.sub(\"\\\\d+\", \"\", text)\n",
    "    # Remove special characters, punctuations\n",
    "    text = re.sub(\"[^a-zA-Z ]\", \"\", text)\n",
    "    # Convert to lowercase\n",
    "    text = text.lower() \n",
    "    # Remove stopwords and apply stemming\n",
    "    text = ' '.join([stemmer.stem(word) for word in text.split() if word not in stop_words])\n",
    "    # Remove additional white spaces\n",
    "    text = re.sub(\"\\\\s+\", \" \", text)\n",
    "    if text == \"\":\n",
    "        text = None\n",
    "    return text\n",
    "\n",
    "# Convert Polars DataFrame to Pandas DataFrame\n",
    "df_pd2 = df.to_pandas()\n",
    "# Initialize pandarallel\n",
    "pandarallel.initialize(progress_bar=True)\n",
    "# Apply cleanText to DataFrame column\n",
    "df_pd2['cleaned_reviewText'] = df_pd2['reviewText'].parallel_apply(cleanText_with_stem)"
   ]
  },
  {
   "cell_type": "code",
   "execution_count": 13,
   "metadata": {},
   "outputs": [
    {
     "data": {
      "text/plain": [
       "0                                       space calendar\n",
       "1                                        awesom pictur\n",
       "2        great wall art inform space explor mind peopl\n",
       "3    alway qualiti calendar full interest spacerel ...\n",
       "4    fantast calendar third year purchas sturdi wel...\n",
       "5                                 great get everi year\n",
       "6    rd year look forward alway enjoy flip tooth ne...\n",
       "7                                  son love everi year\n",
       "8    great calendar space scienc enthusiast ever mo...\n",
       "9                                         lot lot info\n",
       "Name: cleaned_reviewText, dtype: object"
      ]
     },
     "execution_count": 13,
     "metadata": {},
     "output_type": "execute_result"
    }
   ],
   "source": [
    "df_pd2['cleaned_reviewText'].head(10)"
   ]
  },
  {
   "cell_type": "code",
   "execution_count": 14,
   "metadata": {},
   "outputs": [
    {
     "name": "stdout",
     "output_type": "stream",
     "text": [
      "INFO: Pandarallel will run on 6 workers.\n",
      "INFO: Pandarallel will use standard multiprocessing data transfer (pipe) to transfer data between the main process and workers.\n",
      "\n",
      "WARNING: You are on Windows. If you detect any issue with pandarallel, be sure you checked out the Troubleshooting page:\n",
      "https://nalepae.github.io/pandarallel/troubleshooting/\n"
     ]
    },
    {
     "data": {
      "application/vnd.jupyter.widget-view+json": {
       "model_id": "a46fba6432f841a1921c86e376fe7e7e",
       "version_major": 2,
       "version_minor": 0
      },
      "text/plain": [
       "VBox(children=(HBox(children=(IntProgress(value=0, description='0.00%', max=1675647), Label(value='0 / 1675647…"
      ]
     },
     "metadata": {},
     "output_type": "display_data"
    },
    {
     "name": "stdout",
     "output_type": "stream",
     "text": [
      "CPU times: total: 18.4 s\n",
      "Wall time: 19min 38s\n"
     ]
    }
   ],
   "source": [
    "%%time\n",
    "def cleanText_with_lemma(text):\n",
    "    import re\n",
    "    from nltk.corpus import stopwords\n",
    "    from nltk.stem import WordNetLemmatizer\n",
    "    stop_words = set(stopwords.words('english'))\n",
    "    lemmatizer = WordNetLemmatizer()\n",
    "    # Remove HTML tags\n",
    "    text = re.sub(\"<[^>]*>\", \"\", text)\n",
    "    # Remove URLs\n",
    "    text = re.sub(\"(https?:\\\\/\\\\/www\\\\.|https?:\\\\/\\\\/|www\\\\.)[\\\\w\\\\-]+([\\\\.\\\\w\\\\/\\\\-]*)*\\\\S+\", \"\", text)\n",
    "    # Remove usernames, hashtags, ampersands, and gmails\n",
    "    text = re.sub(\"\\S*(#|@|&)\\S*\", \"\", text)\n",
    "    # Remove numbers\n",
    "    text = re.sub(\"\\\\d+\", \"\", text)\n",
    "    # Remove special characters, punctuations\n",
    "    text = re.sub(\"[^a-zA-Z ]\", \"\", text)\n",
    "    # Convert to lowercase\n",
    "    text = text.lower() \n",
    "    # Remove stopwords and apply lemmatization\n",
    "    text = ' '.join([lemmatizer.lemmatize(word) for word in text.split() if word not in stop_words])\n",
    "    # Remove additional white spaces\n",
    "    text = re.sub(\"\\\\s+\", \" \", text)\n",
    "    if text == \"\":\n",
    "        text = None\n",
    "    return text\n",
    "\n",
    "# Convert Polars DataFrame to Pandas DataFrame\n",
    "df_pd3 = df.to_pandas()\n",
    "# Initialize pandarallel\n",
    "pandarallel.initialize(progress_bar=True)\n",
    "# Apply cleanText to DataFrame column\n",
    "df_pd3['cleaned_reviewText'] = df_pd3['reviewText'].parallel_apply(cleanText_with_lemma)"
   ]
  },
  {
   "cell_type": "code",
   "execution_count": 15,
   "metadata": {},
   "outputs": [
    {
     "data": {
      "text/plain": [
       "0                                       space calendar\n",
       "1                                      awesome picture\n",
       "2    great wall art information space exploration m...\n",
       "3    always quality calendar full interesting space...\n",
       "4    fantastic calendar third year purchasing sturd...\n",
       "5                                 great get every year\n",
       "6    rd year looking forward always enjoy flipping ...\n",
       "7                                  son love every year\n",
       "8    great calendar space science enthusiast ever m...\n",
       "9                                         lot lot info\n",
       "Name: cleaned_reviewText, dtype: object"
      ]
     },
     "execution_count": 15,
     "metadata": {},
     "output_type": "execute_result"
    }
   ],
   "source": [
    "df_pd3['cleaned_reviewText'].head(10)"
   ]
  },
  {
   "cell_type": "code",
   "execution_count": 16,
   "metadata": {},
   "outputs": [],
   "source": [
    "# Convert Pandas DataFrame to Polars DataFrame\n",
    "df1 = pl.from_pandas(df_pd)\n",
    "df2 = pl.from_pandas(df_pd2)\n",
    "df3 = pl.from_pandas(df_pd3)"
   ]
  },
  {
   "cell_type": "code",
   "execution_count": 17,
   "metadata": {},
   "outputs": [
    {
     "name": "stdout",
     "output_type": "stream",
     "text": [
      "CPU times: total: 312 ms\n",
      "Wall time: 451 ms\n"
     ]
    }
   ],
   "source": [
    "%%time\n",
    "# Select the columns we need for the sentiment analysis\n",
    "df1 = df1.select(pl.col(\"overall\", \"cleaned_reviewText\"))\n",
    "df2 = df2.select(pl.col(\"overall\", \"cleaned_reviewText\"))\n",
    "df3 = df3.select(pl.col(\"overall\", \"cleaned_reviewText\"))"
   ]
  },
  {
   "cell_type": "code",
   "execution_count": 18,
   "metadata": {},
   "outputs": [
    {
     "name": "stdout",
     "output_type": "stream",
     "text": [
      "(10039957, 2)\n",
      "(10039957, 2)\n",
      "(10039957, 2)\n",
      "CPU times: total: 14.1 s\n",
      "Wall time: 8.72 s\n"
     ]
    }
   ],
   "source": [
    "%%time\n",
    "# Drop the rows with null values in the cleaned_reviewText column and check the shape of the dataset\n",
    "df1 = df1.filter(~pl.col(\"cleaned_reviewText\").is_null())\n",
    "df2 = df2.filter(~pl.col(\"cleaned_reviewText\").is_null())\n",
    "df3 = df3.filter(~pl.col(\"cleaned_reviewText\").is_null())\n",
    "print(df1.shape)\n",
    "print(df2.shape)\n",
    "print(df3.shape)"
   ]
  },
  {
   "cell_type": "code",
   "execution_count": 2,
   "metadata": {},
   "outputs": [],
   "source": [
    "# Remove all rows that contain only one words in the cleaned_reviewText column\n",
    "df1 = df1.filter(~pl.col(\"cleaned_reviewText\").str.split(\" \").map_elements(lambda s: len(s) == 1))\n",
    "df2 = df2.filter(~pl.col(\"cleaned_reviewText\").str.split(\" \").map_elements(lambda s: len(s) == 1))\n",
    "df3 = df3.filter(~pl.col(\"cleaned_reviewText\").str.split(\" \").map_elements(lambda s: len(s) == 1))"
   ]
  },
  {
   "cell_type": "code",
   "execution_count": 3,
   "metadata": {},
   "outputs": [
    {
     "name": "stdout",
     "output_type": "stream",
     "text": [
      "(3973070, 2)\n",
      "CPU times: total: 9.64 s\n",
      "Wall time: 5.33 s\n"
     ]
    },
    {
     "data": {
      "text/html": [
       "<div><style>\n",
       ".dataframe > thead > tr > th,\n",
       ".dataframe > tbody > tr > td {\n",
       "  text-align: right;\n",
       "  white-space: pre-wrap;\n",
       "}\n",
       "</style>\n",
       "<small>shape: (5, 2)</small><table border=\"1\" class=\"dataframe\"><thead><tr><th>overall</th><th>cleaned_reviewText</th></tr><tr><td>f64</td><td>str</td></tr></thead><tbody><tr><td>5.0</td><td>&quot;use gym runs f…</td></tr><tr><td>5.0</td><td>&quot;perfect fit gr…</td></tr><tr><td>5.0</td><td>&quot;amazing simple…</td></tr><tr><td>1.0</td><td>&quot;yesterday year…</td></tr><tr><td>5.0</td><td>&quot;good protectio…</td></tr></tbody></table></div>"
      ],
      "text/plain": [
       "shape: (5, 2)\n",
       "┌─────────┬───────────────────────────────────┐\n",
       "│ overall ┆ cleaned_reviewText                │\n",
       "│ ---     ┆ ---                               │\n",
       "│ f64     ┆ str                               │\n",
       "╞═════════╪═══════════════════════════════════╡\n",
       "│ 5.0     ┆ use gym runs fits nicely touchsc… │\n",
       "│ 5.0     ┆ perfect fit great price simple t… │\n",
       "│ 5.0     ┆ amazing simple use best battery … │\n",
       "│ 1.0     ┆ yesterday years purchased would … │\n",
       "│ 5.0     ┆ good protection attractive econo… │\n",
       "└─────────┴───────────────────────────────────┘"
      ]
     },
     "execution_count": 3,
     "metadata": {},
     "output_type": "execute_result"
    }
   ],
   "source": [
    "%%time\n",
    "# Filter the rows with overall rating 1 or 2 as negative reviews\n",
    "negative_reviews1 = df1.filter(pl.col(\"overall\").is_in([1.0, 2.0]))\n",
    "# Filter the rows with overall rating 5 as positive reviews and sample the same number of rows as the positive reviews\n",
    "positive_reviews1 = df1.filter(pl.col(\"overall\").is_in([5.0]))\n",
    "sample_positive_reviews1 = positive_reviews1.sample(negative_reviews1.shape[0], seed=123)\n",
    "# Merge the negative and positive reviews\n",
    "merge_df1 = negative_reviews1.vstack(sample_positive_reviews1)\n",
    "# Shuffle the rows of the merged dataset\n",
    "final_df1 = merge_df1.sample(fraction=1, shuffle=True, seed=123)\n",
    "print(final_df1.shape)\n",
    "final_df1.head()"
   ]
  },
  {
   "cell_type": "code",
   "execution_count": 4,
   "metadata": {},
   "outputs": [
    {
     "name": "stdout",
     "output_type": "stream",
     "text": [
      "(3973070, 2)\n",
      "CPU times: total: 9.47 s\n",
      "Wall time: 4.43 s\n"
     ]
    },
    {
     "data": {
      "text/html": [
       "<div><style>\n",
       ".dataframe > thead > tr > th,\n",
       ".dataframe > tbody > tr > td {\n",
       "  text-align: right;\n",
       "  white-space: pre-wrap;\n",
       "}\n",
       "</style>\n",
       "<small>shape: (5, 2)</small><table border=\"1\" class=\"dataframe\"><thead><tr><th>overall</th><th>cleaned_reviewText</th></tr><tr><td>f64</td><td>str</td></tr></thead><tbody><tr><td>5.0</td><td>&quot;use gym run fi…</td></tr><tr><td>5.0</td><td>&quot;perfect fit gr…</td></tr><tr><td>5.0</td><td>&quot;amaz simpl use…</td></tr><tr><td>1.0</td><td>&quot;yesterday year…</td></tr><tr><td>5.0</td><td>&quot;good protect a…</td></tr></tbody></table></div>"
      ],
      "text/plain": [
       "shape: (5, 2)\n",
       "┌─────────┬───────────────────────────────────┐\n",
       "│ overall ┆ cleaned_reviewText                │\n",
       "│ ---     ┆ ---                               │\n",
       "│ f64     ┆ str                               │\n",
       "╞═════════╪═══════════════════════════════════╡\n",
       "│ 5.0     ┆ use gym run fit nice touchscreen… │\n",
       "│ 5.0     ┆ perfect fit great price simpl th… │\n",
       "│ 5.0     ┆ amaz simpl use best batteri free  │\n",
       "│ 1.0     ┆ yesterday year purchas would giv… │\n",
       "│ 5.0     ┆ good protect attract econom       │\n",
       "└─────────┴───────────────────────────────────┘"
      ]
     },
     "execution_count": 4,
     "metadata": {},
     "output_type": "execute_result"
    }
   ],
   "source": [
    "%%time\n",
    "# Apply the same steps to df2\n",
    "negative_reviews2 = df2.filter(pl.col(\"overall\").is_in([1.0, 2.0]))\n",
    "positive_reviews2 = df2.filter(pl.col(\"overall\").is_in([5.0]))\n",
    "sample_positive_reviews2 = positive_reviews2.sample(negative_reviews2.shape[0], seed=123)\n",
    "merge_df2 = negative_reviews2.vstack(sample_positive_reviews2)\n",
    "final_df2 = merge_df2.sample(fraction=1, shuffle=True, seed=123)\n",
    "print(final_df2.shape)\n",
    "final_df2.head()"
   ]
  },
  {
   "cell_type": "code",
   "execution_count": 5,
   "metadata": {},
   "outputs": [
    {
     "name": "stdout",
     "output_type": "stream",
     "text": [
      "(3973070, 2)\n",
      "CPU times: total: 9.97 s\n",
      "Wall time: 4.49 s\n"
     ]
    },
    {
     "data": {
      "text/html": [
       "<div><style>\n",
       ".dataframe > thead > tr > th,\n",
       ".dataframe > tbody > tr > td {\n",
       "  text-align: right;\n",
       "  white-space: pre-wrap;\n",
       "}\n",
       "</style>\n",
       "<small>shape: (5, 2)</small><table border=\"1\" class=\"dataframe\"><thead><tr><th>overall</th><th>cleaned_reviewText</th></tr><tr><td>f64</td><td>str</td></tr></thead><tbody><tr><td>5.0</td><td>&quot;use gym run fi…</td></tr><tr><td>5.0</td><td>&quot;perfect fit gr…</td></tr><tr><td>5.0</td><td>&quot;amazing simple…</td></tr><tr><td>1.0</td><td>&quot;yesterday year…</td></tr><tr><td>5.0</td><td>&quot;good protectio…</td></tr></tbody></table></div>"
      ],
      "text/plain": [
       "shape: (5, 2)\n",
       "┌─────────┬───────────────────────────────────┐\n",
       "│ overall ┆ cleaned_reviewText                │\n",
       "│ ---     ┆ ---                               │\n",
       "│ f64     ┆ str                               │\n",
       "╞═════════╪═══════════════════════════════════╡\n",
       "│ 5.0     ┆ use gym run fit nicely touchscre… │\n",
       "│ 5.0     ┆ perfect fit great price simple t… │\n",
       "│ 5.0     ┆ amazing simple use best battery … │\n",
       "│ 1.0     ┆ yesterday year purchased would g… │\n",
       "│ 5.0     ┆ good protection attractive econo… │\n",
       "└─────────┴───────────────────────────────────┘"
      ]
     },
     "execution_count": 5,
     "metadata": {},
     "output_type": "execute_result"
    }
   ],
   "source": [
    "%%time\n",
    "# Apply the same steps to df3\n",
    "negative_reviews3 = df3.filter(pl.col(\"overall\").is_in([1.0, 2.0]))\n",
    "positive_reviews3 = df3.filter(pl.col(\"overall\").is_in([5.0]))\n",
    "sample_positive_reviews3 = positive_reviews3.sample(negative_reviews3.shape[0], seed=123)\n",
    "merge_df3 = negative_reviews3.vstack(sample_positive_reviews3)\n",
    "final_df3 = merge_df3.sample(fraction=1, shuffle=True, seed=123)\n",
    "print(final_df3.shape)\n",
    "final_df3.head()"
   ]
  },
  {
   "cell_type": "code",
   "execution_count": 6,
   "metadata": {},
   "outputs": [
    {
     "name": "stdout",
     "output_type": "stream",
     "text": [
      "CPU times: total: 0 ns\n",
      "Wall time: 0 ns\n"
     ]
    }
   ],
   "source": [
    "%%time\n",
    "# Split the datasets into train and test sets with 80% and 20% of the rows respectively\n",
    "test_size = int(final_df1.shape[0] * 0.2)\n",
    "test_df1, train_df1 = final_df1.head(test_size), final_df1.tail(-test_size)\n",
    "test_df2, train_df2 = final_df2.head(test_size), final_df2.tail(-test_size)\n",
    "test_df3, train_df3 = final_df3.head(test_size), final_df3.tail(-test_size)"
   ]
  },
  {
   "cell_type": "code",
   "execution_count": 7,
   "metadata": {},
   "outputs": [
    {
     "name": "stdout",
     "output_type": "stream",
     "text": [
      "shape: (3, 2)\n",
      "┌─────────┬────────────────────┐\n",
      "│ overall ┆ cleaned_reviewText │\n",
      "│ ---     ┆ ---                │\n",
      "│ f64     ┆ u32                │\n",
      "╞═════════╪════════════════════╡\n",
      "│ 5.0     ┆ 1589212            │\n",
      "│ 2.0     ┆ 513646             │\n",
      "│ 1.0     ┆ 1075598            │\n",
      "└─────────┴────────────────────┘\n",
      "shape: (3, 2)\n",
      "┌─────────┬────────────────────┐\n",
      "│ overall ┆ cleaned_reviewText │\n",
      "│ ---     ┆ ---                │\n",
      "│ f64     ┆ u32                │\n",
      "╞═════════╪════════════════════╡\n",
      "│ 5.0     ┆ 397323             │\n",
      "│ 1.0     ┆ 269083             │\n",
      "│ 2.0     ┆ 128208             │\n",
      "└─────────┴────────────────────┘\n",
      "shape: (3, 2)\n",
      "┌─────────┬────────────────────┐\n",
      "│ overall ┆ cleaned_reviewText │\n",
      "│ ---     ┆ ---                │\n",
      "│ f64     ┆ u32                │\n",
      "╞═════════╪════════════════════╡\n",
      "│ 2.0     ┆ 513646             │\n",
      "│ 5.0     ┆ 1589212            │\n",
      "│ 1.0     ┆ 1075598            │\n",
      "└─────────┴────────────────────┘\n",
      "shape: (3, 2)\n",
      "┌─────────┬────────────────────┐\n",
      "│ overall ┆ cleaned_reviewText │\n",
      "│ ---     ┆ ---                │\n",
      "│ f64     ┆ u32                │\n",
      "╞═════════╪════════════════════╡\n",
      "│ 2.0     ┆ 128208             │\n",
      "│ 1.0     ┆ 269083             │\n",
      "│ 5.0     ┆ 397323             │\n",
      "└─────────┴────────────────────┘\n",
      "shape: (3, 2)\n",
      "┌─────────┬────────────────────┐\n",
      "│ overall ┆ cleaned_reviewText │\n",
      "│ ---     ┆ ---                │\n",
      "│ f64     ┆ u32                │\n",
      "╞═════════╪════════════════════╡\n",
      "│ 1.0     ┆ 1075598            │\n",
      "│ 2.0     ┆ 513646             │\n",
      "│ 5.0     ┆ 1589212            │\n",
      "└─────────┴────────────────────┘\n",
      "shape: (3, 2)\n",
      "┌─────────┬────────────────────┐\n",
      "│ overall ┆ cleaned_reviewText │\n",
      "│ ---     ┆ ---                │\n",
      "│ f64     ┆ u32                │\n",
      "╞═════════╪════════════════════╡\n",
      "│ 5.0     ┆ 397323             │\n",
      "│ 1.0     ┆ 269083             │\n",
      "│ 2.0     ┆ 128208             │\n",
      "└─────────┴────────────────────┘\n"
     ]
    }
   ],
   "source": [
    "# Check rating distribution in the train and test sets\n",
    "print(train_df1.group_by(\"overall\").agg(pl.count(\"cleaned_reviewText\")))\n",
    "print(test_df1.group_by(\"overall\").agg(pl.count(\"cleaned_reviewText\")))\n",
    "print(train_df2.group_by(\"overall\").agg(pl.count(\"cleaned_reviewText\")))\n",
    "print(test_df2.group_by(\"overall\").agg(pl.count(\"cleaned_reviewText\")))\n",
    "print(train_df3.group_by(\"overall\").agg(pl.count(\"cleaned_reviewText\")))\n",
    "print(test_df3.group_by(\"overall\").agg(pl.count(\"cleaned_reviewText\")))"
   ]
  },
  {
   "cell_type": "code",
   "execution_count": 8,
   "metadata": {},
   "outputs": [],
   "source": [
    "# Add index column to the train and test sets\n",
    "train_df1 = train_df1.with_columns(pl.arange(1, train_df1.height + 1).alias(\"index\"))\n",
    "train_df1 = train_df1.select(pl.col(\"index\", \"overall\", \"cleaned_reviewText\"))\n",
    "test_df1 = test_df1.with_columns(pl.arange(1, test_df1.height + 1).alias(\"index\"))\n",
    "test_df1 = test_df1.select(pl.col(\"index\", \"overall\", \"cleaned_reviewText\"))\n",
    "train_df2 = train_df2.with_columns(pl.arange(1, train_df2.height + 1).alias(\"index\"))\n",
    "train_df2 = train_df2.select(pl.col(\"index\", \"overall\", \"cleaned_reviewText\"))\n",
    "test_df2 = test_df2.with_columns(pl.arange(1, test_df2.height + 1).alias(\"index\"))\n",
    "test_df2 = test_df2.select(pl.col(\"index\", \"overall\", \"cleaned_reviewText\"))\n",
    "train_df3 = train_df3.with_columns(pl.arange(1, train_df3.height + 1).alias(\"index\"))\n",
    "train_df3 = train_df3.select(pl.col(\"index\", \"overall\", \"cleaned_reviewText\"))\n",
    "test_df3 = test_df3.with_columns(pl.arange(1, test_df3.height + 1).alias(\"index\"))\n",
    "test_df3 = test_df3.select(pl.col(\"index\", \"overall\", \"cleaned_reviewText\"))"
   ]
  },
  {
   "cell_type": "code",
   "execution_count": 9,
   "metadata": {},
   "outputs": [],
   "source": [
    "# Save the train and test sets as CSV files\n",
    "train_df1.write_csv(\"train1.csv\", separator=',', include_header=False)\n",
    "test_df1.write_csv(\"test1.csv\", separator=',', include_header=False)\n",
    "train_df2.write_csv(\"train2.csv\", separator=',', include_header=False)\n",
    "test_df2.write_csv(\"test2.csv\", separator=',', include_header=False)\n",
    "train_df3.write_csv(\"train3.csv\", separator=',', include_header=False)\n",
    "test_df3.write_csv(\"test3.csv\", separator=',', include_header=False)"
   ]
  },
  {
   "cell_type": "code",
   "execution_count": 10,
   "metadata": {},
   "outputs": [],
   "source": [
    "# Save the final datasets as CSV files\n",
    "final_df1.write_csv(\"final1.csv\", separator=',', include_header=True)\n",
    "final_df2.write_csv(\"final2.csv\", separator=',', include_header=True)\n",
    "final_df3.write_csv(\"final3.csv\", separator=',', include_header=True)"
   ]
  }
 ],
 "metadata": {
  "kernelspec": {
   "display_name": "Python 3 (ipykernel)",
   "language": "python",
   "name": "python3"
  },
  "language_info": {
   "codemirror_mode": {
    "name": "ipython",
    "version": 3
   },
   "file_extension": ".py",
   "mimetype": "text/x-python",
   "name": "python",
   "nbconvert_exporter": "python",
   "pygments_lexer": "ipython3",
   "version": "3.8.18"
  }
 },
 "nbformat": 4,
 "nbformat_minor": 4
}
